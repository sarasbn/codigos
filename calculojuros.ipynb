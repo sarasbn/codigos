{
  "nbformat": 4,
  "nbformat_minor": 0,
  "metadata": {
    "colab": {
      "provenance": [],
      "authorship_tag": "ABX9TyOLUvv5+P3JrAhAePpfMZs7",
      "include_colab_link": true
    },
    "kernelspec": {
      "name": "python3",
      "display_name": "Python 3"
    },
    "language_info": {
      "name": "python"
    }
  },
  "cells": [
    {
      "cell_type": "markdown",
      "metadata": {
        "id": "view-in-github",
        "colab_type": "text"
      },
      "source": [
        "<a href=\"https://colab.research.google.com/github/sarasbn/codigos/blob/main/calculojuros.ipynb\" target=\"_parent\"><img src=\"https://colab.research.google.com/assets/colab-badge.svg\" alt=\"Open In Colab\"/></a>"
      ]
    },
    {
      "cell_type": "code",
      "execution_count": 5,
      "metadata": {
        "colab": {
          "base_uri": "https://localhost:8080/"
        },
        "id": "evPTUArtyRU_",
        "outputId": "c42eab95-70d0-4955-d1f5-01656e784ec0"
      },
      "outputs": [
        {
          "output_type": "stream",
          "name": "stdout",
          "text": [
            "selecione o regime de capitalizacao:\n",
            "\n",
            "1-juros simples \n",
            "2-juros compostos  \n",
            "3-sair \n",
            "\n",
            "Opçao selecionada:2\n",
            "\n",
            "qual o capital a ser investido:1000\n",
            "qual a taxa de juros:10\n",
            "qual o periodo de capitalizacao:12\n",
            "\n",
            " O montante é:  3138.428376721003\n",
            "selecione o regime de capitalizacao:\n",
            "\n",
            "1-juros simples \n",
            "2-juros compostos  \n",
            "3-sair \n",
            "\n",
            "Opçao selecionada:1\n",
            "\n",
            "qual o capital a ser investido:1000\n",
            "qual a taxa de juros:10\n",
            "qual o periodo de capitalizacao:1\n",
            "\n",
            " O montante é:  1100.0\n",
            "selecione o regime de capitalizacao:\n",
            "\n",
            "1-juros simples \n",
            "2-juros compostos  \n",
            "3-sair \n",
            "\n",
            "Opçao selecionada:3\n",
            "programa encerrado!\n"
          ]
        }
      ],
      "source": [
        "while True:\n",
        "  print(\"selecione o regime de capitalizacao:\")\n",
        "  regime = int(input(\"\\n1-juros simples \\n2-juros compostos  \\n3-sair \\n\\nOpçao selecionada:\"))\n",
        "  if regime ==3:\n",
        "    break\n",
        "  \n",
        "  if regime!=1 and regime != 2:\n",
        "    print(\"selecione uma das opcoes informadas acima:\")\n",
        "    continue\n",
        "\n",
        "  c=float(input(\"\\nqual o capital a ser investido:\"))\n",
        "  taxa=float(input(\"qual a taxa de juros:\"))\n",
        "  i=taxa/100\n",
        "  t=float(input(\"qual o periodo de capitalizacao:\"))\n",
        "\n",
        "  if regime==1:\n",
        "      j=c*i*t\n",
        "      m=c+j\n",
        "\n",
        "  if regime==2:\n",
        "      a=(1+i)**t\n",
        "      m=c*a\n",
        "\n",
        "  print(\"\\n O montante é: \",m) \n",
        "print(\"programa encerrado!\")     "
      ]
    }
  ]
}